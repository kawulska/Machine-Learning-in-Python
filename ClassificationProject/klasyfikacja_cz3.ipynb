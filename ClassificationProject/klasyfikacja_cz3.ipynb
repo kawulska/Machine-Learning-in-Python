{
 "cells": [
  {
   "cell_type": "code",
   "execution_count": 28,
   "id": "9e94518e-2915-4433-bfd0-15f7d73e6e51",
   "metadata": {},
   "outputs": [],
   "source": [
    "import pandas as pd\n",
    "import numpy as np\n",
    "import matplotlib.pyplot as plt\n",
    "import seaborn as sns\n",
    "import statistics\n",
    "import warnings\n",
    "warnings.filterwarnings('ignore')\n",
    "import statsmodels"
   ]
  },
  {
   "cell_type": "code",
   "execution_count": null,
   "id": "b6d62500-e280-407b-b0f0-e6c9c86b3573",
   "metadata": {},
   "outputs": [],
   "source": [
    "# Punktem wejściowym była przygotowana ramka danych z \n",
    "# poprzednich części projektu, która zawiera tylko wartości numeryczne \n",
    "# i binarne, więc jest gotowa do trenowania modeli"
   ]
  },
  {
   "cell_type": "code",
   "execution_count": 29,
   "id": "d4409abe-079c-4254-a6ef-0bde3c970a60",
   "metadata": {},
   "outputs": [
    {
     "name": "stdout",
     "output_type": "stream",
     "text": [
      "   Age  Passive_Smoker  Family_History  Lung_Cancer_Diagnosis  \\\n",
      "0   80               0               0                      0   \n",
      "1   53               1               0                      0   \n",
      "2   47               1               0                      0   \n",
      "3   39               0               1                      0   \n",
      "4   44               1               0                      0   \n",
      "\n",
      "   Air_Pollution_Exposure  Occupational_Exposure  Indoor_Pollution  \\\n",
      "0                       0                      1                 0   \n",
      "1                       0                      1                 0   \n",
      "2                       1                      0                 0   \n",
      "3                       0                      0                 0   \n",
      "4                       1                      1                 0   \n",
      "\n",
      "   Early_Detection  Annual_Lung_Cancer_Deaths  Lung_Cancer_Prevalence_Rate  \\\n",
      "0                0                     690000                         2.44   \n",
      "1                0                      27000                         2.10   \n",
      "2                1                      28000                         1.11   \n",
      "3                0                      40000                         0.75   \n",
      "4                0                      15000                         2.44   \n",
      "\n",
      "   Is_Male  Smoking_Exposure  Healthcare_index  \n",
      "0        1               870                 0  \n",
      "1        1                 0                 0  \n",
      "2        1                72                 0  \n",
      "3        0                 0                 0  \n",
      "4        0                 0                 0  \n"
     ]
    }
   ],
   "source": [
    "data = pd.read_csv(\"cancer.csv\")\n",
    "df = data.copy()\n",
    "print(df.head())"
   ]
  },
  {
   "cell_type": "code",
   "execution_count": null,
   "id": "16fb78ae-6a7c-48b2-b826-9cf2d37ac18c",
   "metadata": {},
   "outputs": [],
   "source": [
    "#Rozdzieliłyśmy data frame na kolumnę wartości której\n",
    "#chcemy przewidzieć i na pozostałe kolumny\n",
    "\n",
    "#Rozdzieliłyśmy dane na 80% zbioru treningowego i 20% testowego "
   ]
  },
  {
   "cell_type": "code",
   "execution_count": 30,
   "id": "d66d4efc-4e36-4da8-a444-20cea2d0ea69",
   "metadata": {},
   "outputs": [],
   "source": [
    "from sklearn.model_selection import train_test_split\n",
    "\n",
    "X = df.drop('Lung_Cancer_Diagnosis', axis=1)\n",
    "y = df['Lung_Cancer_Diagnosis']\n",
    "\n",
    "X_train, X_test, y_train, y_test = train_test_split(X, y, test_size=0.2, random_state=42)"
   ]
  },
  {
   "cell_type": "code",
   "execution_count": null,
   "id": "477ab6f1-55fd-4dc0-a39e-f4d835a34cfb",
   "metadata": {},
   "outputs": [],
   "source": [
    "#Testowanie podstwowych modeli Logistic Regression i Random Forest\n",
    "#na przygotowanych zbiorach\n",
    "\n",
    "#W wyniku widzimy dobre i duże wartości accuracy, ale \n",
    "#bardzo małe w procision, recall i f1-score,\n",
    "#co świadczy o tym że dane są bardzo niezbalansowane"
   ]
  },
  {
   "cell_type": "code",
   "execution_count": 31,
   "id": "bfc762c3-d714-49bf-85a0-a21589b654dd",
   "metadata": {
    "scrolled": true
   },
   "outputs": [
    {
     "name": "stdout",
     "output_type": "stream",
     "text": [
      " Logistic Regression\n",
      "Accuracy:  0.7143\n",
      "Precision: 0.0702\n",
      "Recall (Czułość): 0.4796\n",
      "F1-score:  0.1225\n",
      "Classification report:\n",
      "               precision    recall  f1-score   support\n",
      "\n",
      "         Yes       0.97      0.72      0.83     42292\n",
      "          No       0.07      0.48      0.12      1835\n",
      "\n",
      "    accuracy                           0.71     44127\n",
      "   macro avg       0.52      0.60      0.48     44127\n",
      "weighted avg       0.93      0.71      0.80     44127\n",
      "\n",
      " Random Forest\n",
      "Accuracy:  0.9582\n",
      "Precision: 0.0000\n",
      "Recall (Czułość): 0.0000\n",
      "F1-score:  0.0000\n",
      "Classification report:\n",
      "               precision    recall  f1-score   support\n",
      "\n",
      "         Yes       0.96      1.00      0.98     42292\n",
      "          No       0.00      0.00      0.00      1835\n",
      "\n",
      "    accuracy                           0.96     44127\n",
      "   macro avg       0.48      0.50      0.49     44127\n",
      "weighted avg       0.92      0.96      0.94     44127\n",
      "\n"
     ]
    }
   ],
   "source": [
    "from sklearn.metrics import accuracy_score, precision_score, recall_score, f1_score, confusion_matrix, classification_report\n",
    "\n",
    "\n",
    "models = {\n",
    "    'Logistic Regression': LogisticRegression(class_weight='balanced',max_iter=1000),\n",
    "    'Random Forest': RandomForestClassifier(class_weight='balanced')\n",
    "}\n",
    "\n",
    "for name, model in models.items():\n",
    "    model.fit(X_train, y_train)\n",
    "    y_pred = model.predict(X_test)\n",
    "\n",
    "    acc = accuracy_score(y_test, y_pred)\n",
    "    prec = precision_score(y_test, y_pred, pos_label=1)  # pos_label=1 to \"rak\", zmień jeśli inaczej\n",
    "    rec = recall_score(y_test, y_pred, pos_label=1)\n",
    "    f1 = f1_score(y_test, y_pred, pos_label=1)\n",
    "\n",
    "    print(f\" {name}\")\n",
    "    print(f\"Accuracy:  {acc:.4f}\")\n",
    "    print(f\"Precision: {prec:.4f}\")\n",
    "    print(f\"Recall (Czułość): {rec:.4f}\")\n",
    "    print(f\"F1-score:  {f1:.4f}\")\n",
    "    print(\"Classification report:\\n\", classification_report(y_test, y_pred, target_names=['Yes', 'No']))\n"
   ]
  },
  {
   "cell_type": "code",
   "execution_count": null,
   "id": "9b62a800-11a7-41a3-ad88-119fe02ead07",
   "metadata": {},
   "outputs": [],
   "source": [
    "# Accuracy nie daje nic, bo zbiór jest bardzo źle zbalansowany, ok. 21:1"
   ]
  },
  {
   "cell_type": "code",
   "execution_count": null,
   "id": "252142dd-ec59-4e20-bb89-3cd4ab4c7d19",
   "metadata": {},
   "outputs": [],
   "source": [
    "# Użycie metody SMOTE do oversamplingu klasy mniejszościowej.\n",
    "# w celu zapobiegania problemowi niezbalansowanej klasyfikacji i\n",
    "# sprawdzenie czy to polepszyło wynik w modelu LogisticRegression a potem w Random Forest\n",
    "\n",
    "# W wyniku to znacząco nie polepszyło predykcje raka"
   ]
  },
  {
   "cell_type": "code",
   "execution_count": 37,
   "id": "b7700e6c-6b57-4d34-b2dc-c344abeb22f1",
   "metadata": {},
   "outputs": [
    {
     "name": "stdout",
     "output_type": "stream",
     "text": [
      "Accuracy: 0.689600471366737\n",
      "Classification report:\n",
      "               precision    recall  f1-score   support\n",
      "\n",
      "           0       0.96      0.71      0.81     42335\n",
      "           1       0.04      0.32      0.08      1792\n",
      "\n",
      "    accuracy                           0.69     44127\n",
      "   macro avg       0.50      0.51      0.45     44127\n",
      "weighted avg       0.92      0.69      0.78     44127\n",
      "\n"
     ]
    }
   ],
   "source": [
    "from imblearn.over_sampling import SMOTE\n",
    "from sklearn.model_selection import train_test_split\n",
    "from sklearn.linear_model import LogisticRegression\n",
    "from sklearn.metrics import classification_report, accuracy_score\n",
    "\n",
    "sm = SMOTE(random_state=42)\n",
    "X_res, y_res = sm.fit_resample(X_train, y_train)\n",
    "\n",
    "model = LogisticRegression(max_iter=1000)\n",
    "model.fit(X_res, y_res)\n",
    "\n",
    "y_pred = model.predict(X_test)\n",
    "\n",
    "print(\"Accuracy:\", accuracy_score(y_test, y_pred))\n",
    "print(\"Classification report:\\n\", classification_report(y_test, y_pred))"
   ]
  },
  {
   "cell_type": "code",
   "execution_count": 39,
   "id": "4f773e9d-a23f-4718-b1d6-67940fa4ebd8",
   "metadata": {},
   "outputs": [
    {
     "name": "stdout",
     "output_type": "stream",
     "text": [
      "Accuracy: 0.8587259500985791\n",
      "Classification report:\n",
      "               precision    recall  f1-score   support\n",
      "\n",
      "           0       0.96      0.89      0.92     42335\n",
      "           1       0.05      0.15      0.08      1792\n",
      "\n",
      "    accuracy                           0.86     44127\n",
      "   macro avg       0.51      0.52      0.50     44127\n",
      "weighted avg       0.92      0.86      0.89     44127\n",
      "\n"
     ]
    }
   ],
   "source": [
    "from sklearn.model_selection import train_test_split\n",
    "from sklearn.ensemble import RandomForestClassifier\n",
    "from sklearn.metrics import accuracy_score, classification_report\n",
    "from imblearn.over_sampling import SMOTE\n",
    "\n",
    "sm = SMOTE(random_state=42)\n",
    "X_res, y_res = sm.fit_resample(X_train, y_train)\n",
    "\n",
    "\n",
    "model = RandomForestClassifier(n_estimators=100, random_state=42,class_weight='balanced')\n",
    "model.fit(X_res, y_res)\n",
    "\n",
    "y_proba = model.predict_proba(X_test)[:, 1]\n",
    "y_pred_thresh = (y_proba >= 0.3).astype(int)\n",
    "\n",
    "y_pred = model.predict(X_test)\n",
    "\n",
    "print(\"Accuracy:\", accuracy_score(y_test, y_pred))\n",
    "print(\"Classification report:\\n\", classification_report(y_test, y_pred))"
   ]
  },
  {
   "cell_type": "code",
   "execution_count": 15,
   "id": "c52ce372-9df1-40c5-94b9-0698de037a48",
   "metadata": {},
   "outputs": [
    {
     "name": "stdout",
     "output_type": "stream",
     "text": [
      "              precision    recall  f1-score   support\n",
      "\n",
      "           0       0.97      0.76      0.85     42335\n",
      "           1       0.07      0.41      0.12      1792\n",
      "\n",
      "    accuracy                           0.74     44127\n",
      "   macro avg       0.52      0.59      0.48     44127\n",
      "weighted avg       0.93      0.74      0.82     44127\n",
      "\n",
      "[[32103 10232]\n",
      " [ 1052   740]]\n",
      "ROC AUC: 0.6151\n"
     ]
    }
   ],
   "source": [
    "print(classification_report(y_test, y_pred))\n",
    "print(confusion_matrix(y_test, y_pred))\n",
    "roc_auc = roc_auc_score(y_test, y_proba)\n",
    "print(f\"ROC AUC: {roc_auc:.4f}\")"
   ]
  },
  {
   "cell_type": "code",
   "execution_count": null,
   "id": "969d4996-3db5-41a5-9d96-7a86af3ddeba",
   "metadata": {},
   "outputs": [],
   "source": [
    "# wizualizacja tego jak zmienia się precision w zależności od recall dla róznych progów decyzyjnych modelu\n",
    "# widzimy Precision szybko spada w miarę jak recall rośnie,\n",
    "# czyli model łapie dużo przypadków, ale wtedy traci na precyzji co powoduje więcej błędnych alarmów.\n",
    "# Ogólnie niska precyzja, co sugeruje, że model często błędnie klasyfikuje negatywne przypadki jako pozytywne\n",
    "# co potwierdza że klasy pozytywne są rzadkie"
   ]
  },
  {
   "cell_type": "code",
   "execution_count": 16,
   "id": "f7190e29-1ca5-4cee-81cc-4fc54da9f585",
   "metadata": {},
   "outputs": [
    {
     "data": {
      "image/png": "[encoded data removed]",
      "text/plain": [
       "<Figure size 640x480 with 1 Axes>"
      ]
     },
     "metadata": {},
     "output_type": "display_data"
    }
   ],
   "source": [
    "from sklearn.metrics import precision_recall_curve\n",
    "import matplotlib.pyplot as plt\n",
    "\n",
    "precision, recall, thresholds = precision_recall_curve(y_test, y_proba)\n",
    "\n",
    "plt.plot(recall, precision)\n",
    "plt.xlabel(\"Recall\")\n",
    "plt.ylabel(\"Precision\")\n",
    "plt.title(\"Precision-Recall Curve\")\n",
    "plt.grid()\n",
    "plt.show()"
   ]
  },
  {
   "cell_type": "code",
   "execution_count": null,
   "id": "ba472e53-dc9d-4e0b-a68a-40b2868e23a9",
   "metadata": {},
   "outputs": [],
   "source": [
    "#Przeprowadzono 5-krotną walidację krzyżową (StratifiedKFold) na modelu RandomForestClassifier, \n",
    "#oceniając skuteczność za pomocą F1-score.\n",
    "#Wynik oznacza, że model RandomForestClassifier kompletnie nie rozpoznaje klasy pozytywnej w żadnym podanym wypadku"
   ]
  },
  {
   "cell_type": "code",
   "execution_count": 41,
   "id": "d9b62b2c-d93f-4b4f-abba-1e552bbcdec1",
   "metadata": {},
   "outputs": [
    {
     "name": "stdout",
     "output_type": "stream",
     "text": [
      "F1-scores: [0. 0. 0. 0. 0.]\n",
      "Średnia F1: 0.0\n"
     ]
    }
   ],
   "source": [
    "# cross-validation \n",
    "\n",
    "from sklearn.model_selection import cross_val_score, StratifiedKFold\n",
    "from sklearn.ensemble import RandomForestClassifier\n",
    "from sklearn.metrics import make_scorer, f1_score\n",
    "\n",
    "\n",
    "model = RandomForestClassifier(random_state=42)\n",
    "\n",
    "cv = StratifiedKFold(n_splits=5, shuffle=True, random_state=42)\n",
    "scores = cross_val_score(model, X, y, cv=cv, scoring=\"f1\")  # F1-score przy nierównych klasach\n",
    "\n",
    "print(\"F1-scores:\", scores)\n",
    "print(\"Średnia F1:\", scores.mean())"
   ]
  },
  {
   "cell_type": "code",
   "execution_count": null,
   "id": "c0ea37bf-3c03-4889-ae25-8c19591ab8e5",
   "metadata": {},
   "outputs": [],
   "source": [
    "#Próba i ocena, jak zmiana progu (threshold) wpływa na skuteczność klasyfikacji oraz dokładniejsza analiza błędów modelu.\n",
    "#Widzimy że model prawie zawsze znajduje przypadki 1, ale przy ogromnej liczbie fałszywych alarmów"
   ]
  },
  {
   "cell_type": "code",
   "execution_count": 22,
   "id": "3514ef83-68be-40b5-a0cf-06b7018c8fa3",
   "metadata": {},
   "outputs": [
    {
     "name": "stdout",
     "output_type": "stream",
     "text": [
      "Classification Report:\n",
      "              precision    recall  f1-score   support\n",
      "\n",
      "           0       0.97      0.16      0.27     42335\n",
      "           1       0.04      0.89      0.08      1792\n",
      "\n",
      "    accuracy                           0.18     44127\n",
      "   macro avg       0.51      0.52      0.17     44127\n",
      "weighted avg       0.93      0.18      0.26     44127\n",
      "\n",
      "\n",
      "Confusion Matrix:\n",
      "[[ 6567 35768]\n",
      " [  203  1589]]\n",
      "ROC AUC: 0.6151\n"
     ]
    }
   ],
   "source": [
    "# ustawiamy thresholdy\n",
    "custom_threshold = 0.5\n",
    "\n",
    "y_pred_custom = (y_proba > custom_threshold).astype(int)\n",
    "\n",
    "\n",
    "print(\"Classification Report:\")\n",
    "print(classification_report(y_test, y_pred_custom))\n",
    "\n",
    "print(\"\\nConfusion Matrix:\")\n",
    "print(confusion_matrix(y_test, y_pred_custom))\n",
    "\n",
    "\n",
    "roc_auc = roc_auc_score(y_test, y_proba)\n",
    "print(f\"ROC AUC: {roc_auc:.4f}\")\n"
   ]
  },
  {
   "cell_type": "code",
   "execution_count": null,
   "id": "5708e3ff-c6a9-49e6-bcfe-977aa0a0f19f",
   "metadata": {},
   "outputs": [],
   "source": [
    "#znalezienie najlepszego zestawu parametrów dla modelu XGBoost przy uwzględnieniu niezbalansowanych danych i poprawa skuteczności klasyfikacji"
   ]
  },
  {
   "cell_type": "code",
   "execution_count": 33,
   "id": "9177a941-b734-4692-94ba-95e1cb4169fa",
   "metadata": {},
   "outputs": [
    {
     "name": "stdout",
     "output_type": "stream",
     "text": [
      "Najlepsze parametry: {'learning_rate': 0.005, 'max_depth': 4, 'min_child_weight': 0.5, 'n_estimators': 200}\n",
      "              precision    recall  f1-score   support\n",
      "\n",
      "           0       0.97      0.77      0.86     42335\n",
      "           1       0.07      0.39      0.11      1792\n",
      "\n",
      "    accuracy                           0.76     44127\n",
      "   macro avg       0.52      0.58      0.49     44127\n",
      "weighted avg       0.93      0.76      0.83     44127\n",
      "\n",
      "[[32620  9715]\n",
      " [ 1091   701]]\n",
      "ROC AUC: 0.6461\n"
     ]
    }
   ],
   "source": [
    "from sklearn.utils import resample\n",
    "\n",
    "X_train_small, y_train_small = resample(X_train, y_train, n_samples=int(len(X_train) * 0.1), random_state=42)\n",
    "\n",
    "# parametry\n",
    "param_grid = {\n",
    "    'max_depth': [4,5,3],\n",
    "    'learning_rate':[0.005,0.1,0.05],\n",
    "    'min_child_weight': [0.5,1,2],\n",
    "    'n_estimators': [200,100,500]\n",
    "}\n",
    "\n",
    "# GridSearchCV\n",
    "grid_search = GridSearchCV(XGBClassifier(scale_pos_weight=21), param_grid, cv=10, scoring='precision')\n",
    "# tuning na mniejszym zbiorze danych\n",
    "grid_search.fit(X_train_small, y_train_small)\n",
    "\n",
    "print(\"Najlepsze parametry:\", grid_search.best_params_)\n",
    "\n",
    "model_best = grid_search.best_estimator_\n",
    "\n",
    "# Predykcje\n",
    "y_proba = model_best.predict_proba(X_test)[:, 1]\n",
    "y_pred_custom = (y_proba > 0.55).astype(int)\n",
    "\n",
    "# Ocena wyników\n",
    "print(classification_report(y_test, y_pred_custom))\n",
    "print(confusion_matrix(y_test, y_pred_custom))\n",
    "roc_auc = roc_auc_score(y_test, y_proba)\n",
    "print(f\"ROC AUC: {roc_auc:.4f}\")"
   ]
  },
  {
   "cell_type": "code",
   "execution_count": 28,
   "id": "1cef5100-92bb-42f9-a47f-464e366083aa",
   "metadata": {},
   "outputs": [
    {
     "name": "stdout",
     "output_type": "stream",
     "text": [
      "Threshold: 0.6\n",
      "              precision    recall  f1-score   support\n",
      "\n",
      "           0       0.96      0.90      0.93     42335\n",
      "           1       0.07      0.18      0.10      1792\n",
      "\n",
      "    accuracy                           0.87     44127\n",
      "   macro avg       0.52      0.54      0.51     44127\n",
      "weighted avg       0.93      0.87      0.89     44127\n",
      "\n",
      "[[37984  4351]\n",
      " [ 1477   315]]\n",
      "ROC AUC: 0.6402\n",
      "\n",
      "Threshold: 0.5\n",
      "              precision    recall  f1-score   support\n",
      "\n",
      "           0       0.97      0.69      0.81     42335\n",
      "           1       0.07      0.52      0.12      1792\n",
      "\n",
      "    accuracy                           0.69     44127\n",
      "   macro avg       0.52      0.61      0.46     44127\n",
      "weighted avg       0.93      0.69      0.78     44127\n",
      "\n",
      "[[29404 12931]\n",
      " [  862   930]]\n",
      "ROC AUC: 0.6402\n",
      "\n",
      "Threshold: 0.4\n",
      "              precision    recall  f1-score   support\n",
      "\n",
      "           0       0.98      0.59      0.73     42335\n",
      "           1       0.06      0.67      0.12      1792\n",
      "\n",
      "    accuracy                           0.59     44127\n",
      "   macro avg       0.52      0.63      0.43     44127\n",
      "weighted avg       0.94      0.59      0.71     44127\n",
      "\n",
      "[[24823 17512]\n",
      " [  590  1202]]\n",
      "ROC AUC: 0.6402\n",
      "\n"
     ]
    }
   ],
   "source": [
    "# Testowanie różnych progów decyzyjnych\n",
    "thresholds = [0.6, 0.5,0.4]\n",
    "\n",
    "for threshold in thresholds:\n",
    "    y_pred_custom = (y_proba > threshold).astype(int)\n",
    "    print(f\"Threshold: {threshold}\")\n",
    "    print(classification_report(y_test, y_pred_custom))\n",
    "    print(confusion_matrix(y_test, y_pred_custom))\n",
    "    roc_auc = roc_auc_score(y_test, y_proba)\n",
    "    print(f\"ROC AUC: {roc_auc:.4f}\\n\")"
   ]
  },
  {
   "cell_type": "code",
   "execution_count": null,
   "id": "bdaa23e1-28d6-43c9-b0a6-4bd582b35b6f",
   "metadata": {},
   "outputs": [],
   "source": [
    "# Celem predykcji jest diagnoza raka, \n",
    "# powinnyśmy się skupić na tym, aby znaleźć wszystkie osoby z rakiem kosztem fałszywej diagnozy\n",
    "# czyli recall powinien byc wysoki kosztem precision"
   ]
  },
  {
   "cell_type": "code",
   "execution_count": null,
   "id": "4ad98056-cbde-4801-b63b-6997454bdcc6",
   "metadata": {},
   "outputs": [],
   "source": [
    "#resampling zmieniam stosunek"
   ]
  },
  {
   "cell_type": "code",
   "execution_count": 33,
   "id": "0e839926-7aa9-4c37-8078-8416edfab947",
   "metadata": {},
   "outputs": [
    {
     "name": "stdout",
     "output_type": "stream",
     "text": [
      "Lung_Cancer_Diagnosis\n",
      "0    84668\n",
      "1    21507\n",
      "Name: count, dtype: int64\n"
     ]
    }
   ],
   "source": [
    "import pandas as pd\n",
    "from imblearn.over_sampling import SMOTE\n",
    "\n",
    "# Podziel cechy i etykiety\n",
    "X = df.drop('Lung_Cancer_Diagnosis', axis=1)\n",
    "y = df['Lung_Cancer_Diagnosis']\n",
    "\n",
    "\n",
    "X_train, X_test, y_train, y_test = train_test_split(\n",
    "    X, y, test_size=0.2, random_state=42, stratify=y\n",
    ")\n",
    "\n",
    "class_0_count = y_train.value_counts()[0]\n",
    "class_1_count = y_train.value_counts()[1]\n",
    "\n",
    "# zmiejszamy o polowe ilosc probek\n",
    "sampling_strategy_class_0 = class_0_count // 2\n",
    "\n",
    "\n",
    "sampling_strategy_class_1 = class_1_count * 3\n",
    "\n",
    "class_0_indices = y_train[y_train == 0].index\n",
    "class_0_resampled_indices = class_0_indices[:sampling_strategy_class_0]  \n",
    "X_train_resampled = pd.concat([X_train.loc[class_0_resampled_indices], X_train[y_train == 1]])\n",
    "y_train_resampled = pd.concat([y_train.loc[class_0_resampled_indices], y_train[y_train == 1]])\n",
    "\n",
    "# SMOTE\n",
    "smote = SMOTE(sampling_strategy={1: sampling_strategy_class_1}, random_state=42)\n",
    "\n",
    "\n",
    "X_resampled, y_resampled = smote.fit_resample(X_train_resampled, y_train_resampled)\n",
    "\n",
    "\n",
    "df_resampled = pd.concat([pd.DataFrame(X_resampled), pd.DataFrame(y_resampled, columns=['Lung_Cancer_Diagnosis'])], axis=1)\n",
    "\n",
    "# Sprawdzenie nowego balansu\n",
    "print(df_resampled['Lung_Cancer_Diagnosis'].value_counts())\n"
   ]
  },
  {
   "cell_type": "code",
   "execution_count": 38,
   "id": "0de7a738-242e-4cad-8241-d76cd8a903ce",
   "metadata": {},
   "outputs": [
    {
     "name": "stdout",
     "output_type": "stream",
     "text": [
      "\n",
      "=== Logistic Regression ===\n",
      "[[36210  6125]\n",
      " [ 1432   360]]\n",
      "ROC AUC: 0.5509\n",
      "              precision    recall  f1-score   support\n",
      "\n",
      "           0     0.9620    0.8553    0.9055     42335\n",
      "           1     0.0555    0.2009    0.0870      1792\n",
      "\n",
      "    accuracy                         0.8287     44127\n",
      "   macro avg     0.5087    0.5281    0.4962     44127\n",
      "weighted avg     0.9251    0.8287    0.8723     44127\n",
      "\n",
      "\n",
      "=== Random Forest ===\n",
      "[[36569  5766]\n",
      " [ 1441   351]]\n",
      "ROC AUC: 0.5969\n",
      "              precision    recall  f1-score   support\n",
      "\n",
      "           0     0.9621    0.8638    0.9103     42335\n",
      "           1     0.0574    0.1959    0.0888      1792\n",
      "\n",
      "    accuracy                         0.8367     44127\n",
      "   macro avg     0.5097    0.5298    0.4995     44127\n",
      "weighted avg     0.9253    0.8367    0.8769     44127\n",
      "\n",
      "\n",
      "=== XGBoost ===\n",
      "[[36381  5954]\n",
      " [ 1422   370]]\n",
      "ROC AUC: 0.5975\n",
      "              precision    recall  f1-score   support\n",
      "\n",
      "           0     0.9624    0.8594    0.9080     42335\n",
      "           1     0.0585    0.2065    0.0912      1792\n",
      "\n",
      "    accuracy                         0.8328     44127\n",
      "   macro avg     0.5104    0.5329    0.4996     44127\n",
      "weighted avg     0.9257    0.8328    0.8748     44127\n",
      "\n",
      "\n",
      "=== LightGBM ===\n",
      "[LightGBM] [Info] Number of positive: 21507, number of negative: 84668\n",
      "[LightGBM] [Info] Auto-choosing row-wise multi-threading, the overhead of testing was 0.010628 seconds.\n",
      "You can set `force_row_wise=true` to remove the overhead.\n",
      "And if memory is not enough, you can set `force_col_wise=true`.\n",
      "[LightGBM] [Info] Total Bins 834\n",
      "[LightGBM] [Info] Number of data points in the train set: 106175, number of used features: 12\n",
      "[LightGBM] [Info] [binary:BoostFromScore]: pavg=0.500000 -> initscore=-0.000000\n",
      "[LightGBM] [Info] Start training from score -0.000000\n",
      "[[18591 23744]\n",
      " [  436  1356]]\n",
      "ROC AUC: 0.6189\n",
      "              precision    recall  f1-score   support\n",
      "\n",
      "           0     0.9771    0.4391    0.6059     42335\n",
      "           1     0.0540    0.7567    0.1008      1792\n",
      "\n",
      "    accuracy                         0.4520     44127\n",
      "   macro avg     0.5156    0.5979    0.3534     44127\n",
      "weighted avg     0.9396    0.4520    0.5854     44127\n",
      "\n"
     ]
    }
   ],
   "source": [
    "from sklearn.linear_model import LogisticRegression\n",
    "from sklearn.ensemble import RandomForestClassifier\n",
    "from xgboost import XGBClassifier\n",
    "from lightgbm import LGBMClassifier\n",
    "from sklearn.metrics import accuracy_score, precision_score, recall_score, f1_score, confusion_matrix, classification_report\n",
    "\n",
    "models = {\n",
    "    'Logistic Regression': LogisticRegression(max_iter=1000),\n",
    "    'Random Forest': RandomForestClassifier(class_weight='balanced'),\n",
    "    'XGBoost': XGBClassifier(use_label_encoder=False, eval_metric='logloss'),\n",
    "     'LightGBM': LGBMClassifier(class_weight='balanced', random_state=42),\n",
    "    \n",
    "}\n",
    "\n",
    "# Trenowanie i ocena\n",
    "for name, model in models.items():\n",
    "    print(f\"\\n=== {name} ===\")\n",
    "    model.fit(X_resampled, y_resampled)\n",
    "    \n",
    "    y_proba = model.predict_proba(X_test)[:,1]\n",
    "    y_pred = (y_proba >= 0.3).astype(int)\n",
    "\n",
    "    print(confusion_matrix(y_test, y_pred))\n",
    "    roc_auc = roc_auc_score(y_test, y_proba)\n",
    "    print(f\"ROC AUC: {roc_auc:.4f}\")\n",
    "    \n",
    "    print(classification_report(y_test, y_pred, digits=4))"
   ]
  },
  {
   "cell_type": "code",
   "execution_count": null,
   "id": "39b72732-d5ae-4f55-ab4d-3944b94f4005",
   "metadata": {},
   "outputs": [],
   "source": [
    "#Widzimy że Logistic Regression, Random Forest, XGBoost utrzymują wysoką accuracy, \n",
    "#ale mają niski recall dla klasy pozytywnej (mało wykrywanych przypadków raka).\n",
    "#LightGBM poprawia recall, ale pogarsza ogólną accuracy."
   ]
  },
  {
   "cell_type": "code",
   "execution_count": null,
   "id": "1c44a48d-a907-4aa1-9647-bfb04995e92a",
   "metadata": {},
   "outputs": [],
   "source": [
    "# dalej użyto modelu XGBoost na danych zbalansowanych metodą SMOTE.\n",
    "# Przeprowadzono RandomizedSearchCV na 30 losowych kombinacjach hiperparametrów, \n",
    "#skupiając się na maksymalizacji recall (wykrywanie przypadków pozytywnych).\n",
    "\n",
    "#Najlepsze parametry:\n",
    "#subsample=0.6, scale_pos_weight=5, n_estimators=300, max_depth=6, learning_rate=0.01, gamma=0.1, colsample_bytree=1.0.\n",
    "#Ostateczne przewidywania wykonano przy progu 0.6.\n",
    "\n",
    "#Udało się zdecydowanie poprawić recall dla klasy pozytywnej (choroby) względem poprzednich modeli,\n",
    "#Jednak precision nadal jest bardzo niskie — model generuje dużo fałszywych alarmów."
   ]
  },
  {
   "cell_type": "code",
   "execution_count": 50,
   "id": "231316b1-7c68-4e0c-b4f3-aabd19a66c05",
   "metadata": {},
   "outputs": [
    {
     "name": "stdout",
     "output_type": "stream",
     "text": [
      "Fitting 3 folds for each of 30 candidates, totalling 90 fits\n",
      "\n",
      "Najlepsze parametry znalezione:\n",
      "{'subsample': 0.6, 'scale_pos_weight': 5, 'n_estimators': 300, 'max_depth': 6, 'learning_rate': 0.01, 'gamma': 0.1, 'colsample_bytree': 1.0}\n",
      "\n",
      "=== Wyniki na TEST ===\n",
      "              precision    recall  f1-score   support\n",
      "\n",
      "           0     0.9656    0.7642    0.8532     42335\n",
      "           1     0.0603    0.3571    0.1031      1792\n",
      "\n",
      "    accuracy                         0.7477     44127\n",
      "   macro avg     0.5129    0.5607    0.4782     44127\n",
      "weighted avg     0.9289    0.7477    0.8227     44127\n",
      "\n"
     ]
    }
   ],
   "source": [
    "import pandas as pd\n",
    "from sklearn.model_selection import train_test_split, RandomizedSearchCV\n",
    "from sklearn.metrics import classification_report\n",
    "from imblearn.over_sampling import SMOTE\n",
    "from xgboost import XGBClassifier\n",
    "import numpy as np\n",
    "\n",
    "\n",
    "#XGBoost model\n",
    "xgb = XGBClassifier(use_label_encoder=False, eval_metric='logloss', random_state=42)\n",
    "\n",
    "param_dist = {\n",
    "    'n_estimators': [100, 200, 300, 400],\n",
    "    'max_depth': [3, 4, 5, 6, 8],\n",
    "    'learning_rate': [0.01, 0.05, 0.1, 0.2],\n",
    "    'subsample': [0.6, 0.7, 0.8, 0.9, 1.0],\n",
    "    'colsample_bytree': [0.6, 0.7, 0.8, 0.9, 1.0],\n",
    "    'gamma': [0, 0.1, 0.2, 0.3],\n",
    "    'scale_pos_weight': [1, 2, 3, 5]  # bardzo ważne dla nierównych danych\n",
    "}\n",
    "\n",
    "# Randomized Search\n",
    "random_search = RandomizedSearchCV(\n",
    "    estimator=xgb,\n",
    "    param_distributions=param_dist,\n",
    "    n_iter=30,        # ile kombinacji przetestować\n",
    "    scoring='recall', # skupiamy się na recall\n",
    "    cv=3,             # 3-krotna walidacja krzyżowa\n",
    "    verbose=2,\n",
    "    random_state=42,\n",
    "    n_jobs=-1\n",
    ")\n",
    "\n",
    "\n",
    "random_search.fit(X_resampled, y_resampled)\n",
    "\n",
    "best_model = random_search.best_estimator_\n",
    "\n",
    "print(\"\\nNajlepsze parametry znalezione:\")\n",
    "print(random_search.best_params_)\n",
    "\n",
    "y_proba = best_model.predict_proba(X_test)[:,1]\n",
    "y_pred = (y_proba >= 0.6).astype(int) \n",
    "\n",
    "print(\"\\n=== Wyniki na TEST ===\")\n",
    "print(classification_report(y_test, y_pred, digits=4))"
   ]
  },
  {
   "cell_type": "code",
   "execution_count": null,
   "id": "000710ed-0ab0-4a6d-8563-afe6e0057011",
   "metadata": {},
   "outputs": [],
   "source": [
    "#Użyto modelu LightGBM na danych zbalansowanych metodą SMOTE\n",
    "#w wyniku model wykrywa prawie 30% przypadków pozytywnych,\n",
    "#Precision jest bardzo niskie (wiele fałszywych alarmów),"
   ]
  },
  {
   "cell_type": "code",
   "execution_count": 49,
   "id": "fe331b18-2017-4864-a15e-7c57f73c1fef",
   "metadata": {},
   "outputs": [
    {
     "name": "stdout",
     "output_type": "stream",
     "text": [
      "Fitting 3 folds for each of 30 candidates, totalling 90 fits\n",
      "[LightGBM] [Info] Number of positive: 21507, number of negative: 84668\n",
      "[LightGBM] [Info] Auto-choosing row-wise multi-threading, the overhead of testing was 0.019744 seconds.\n",
      "You can set `force_row_wise=true` to remove the overhead.\n",
      "And if memory is not enough, you can set `force_col_wise=true`.\n",
      "[LightGBM] [Info] Total Bins 834\n",
      "[LightGBM] [Info] Number of data points in the train set: 106175, number of used features: 12\n",
      "[LightGBM] [Info] [binary:BoostFromScore]: pavg=0.202562 -> initscore=-1.370359\n",
      "[LightGBM] [Info] Start training from score -1.370359\n",
      "\n",
      "Najlepsze parametry znalezione:\n",
      "{'subsample': 0.9, 'scale_pos_weight': 5, 'num_leaves': 40, 'n_estimators': 100, 'max_depth': 8, 'learning_rate': 0.1, 'colsample_bytree': 0.8}\n",
      "\n",
      "=== Wyniki na TEST ===\n",
      "              precision    recall  f1-score   support\n",
      "\n",
      "           0     0.9639    0.7950    0.8713     42335\n",
      "           1     0.0577    0.2963    0.0965      1792\n",
      "\n",
      "    accuracy                         0.7747     44127\n",
      "   macro avg     0.5108    0.5457    0.4839     44127\n",
      "weighted avg     0.9271    0.7747    0.8399     44127\n",
      "\n"
     ]
    }
   ],
   "source": [
    "import lightgbm as lgb\n",
    "# LightGBM model\n",
    "lgbm = lgb.LGBMClassifier(random_state=42)\n",
    "\n",
    "param_dist = {\n",
    "    'n_estimators': [100, 200, 300, 400],\n",
    "    'max_depth': [3, 4, 5, 6, 8, -1],  \n",
    "    'learning_rate': [0.01, 0.05, 0.1, 0.2],\n",
    "    'subsample': [0.6, 0.7, 0.8, 0.9, 1.0],\n",
    "    'colsample_bytree': [0.6, 0.7, 0.8, 0.9, 1.0],\n",
    "    'num_leaves': [20, 31, 40, 50, 70], \n",
    "    'scale_pos_weight': [1, 2, 3, 5]   \n",
    "}\n",
    "\n",
    "# Randomized Search\n",
    "random_search = RandomizedSearchCV(\n",
    "    estimator=lgbm,\n",
    "    param_distributions=param_dist,\n",
    "    n_iter=30,        # ile kombinacji przetestować\n",
    "    scoring='recall', # skupiamy się na recall\n",
    "    cv=3,             # 3-krotna walidacja krzyżowa\n",
    "    verbose=2,\n",
    "    random_state=42,\n",
    "    n_jobs=-1\n",
    ")\n",
    "random_search.fit(X_resampled, y_resampled)\n",
    "\n",
    "best_model = random_search.best_estimator_\n",
    "\n",
    "print(\"\\nNajlepsze parametry znalezione:\")\n",
    "print(random_search.best_params_)\n",
    "\n",
    "y_proba = best_model.predict_proba(X_test)[:, 1]\n",
    "y_pred = (y_proba >= 0.6).astype(int)  \n",
    "\n",
    "print(\"\\n=== Wyniki na TEST ===\")\n",
    "print(classification_report(y_test, y_pred, digits=4))"
   ]
  },
  {
   "cell_type": "code",
   "execution_count": null,
   "id": "47b3db76-15b2-45f2-bf5c-645dac99522a",
   "metadata": {},
   "outputs": [],
   "source": [
    "# kombinacja klasyfikatorow"
   ]
  },
  {
   "cell_type": "code",
   "execution_count": null,
   "id": "b5223d3d-4afd-4ac9-a6e9-00cd7c3322b4",
   "metadata": {},
   "outputs": [],
   "source": [
    "# Stworzono ensemble model łączący: najlepszy XGBoost,\n",
    "# najlepszy LightGBM i najlepszy Random Forest,\n",
    "# Modele zostały przetrenowane na danych zbalansowanych przy użyciu SMOTE\n",
    "\n",
    "#recall (31%) jest lepszy niż w pojedynczych modelach XGBoost lub LightGBM osobno,\n",
    "#accuracy pozostaje na dobrym poziomie (78%),\n",
    "#precision jest nadal niski (6%), co oznacza dużą liczbę fałszywych alarmów,\n",
    "# ROC AUC 0.6189 wskazuje, że model umiarkowanie rozróżnia klasy."
   ]
  },
  {
   "cell_type": "code",
   "execution_count": 39,
   "id": "f8a54437-05e5-41ba-bbaa-55f03ab03f0b",
   "metadata": {},
   "outputs": [
    {
     "name": "stdout",
     "output_type": "stream",
     "text": [
      "[LightGBM] [Info] Number of positive: 21507, number of negative: 84668\n",
      "[LightGBM] [Info] Auto-choosing row-wise multi-threading, the overhead of testing was 0.014340 seconds.\n",
      "You can set `force_row_wise=true` to remove the overhead.\n",
      "And if memory is not enough, you can set `force_col_wise=true`.\n",
      "[LightGBM] [Info] Total Bins 834\n",
      "[LightGBM] [Info] Number of data points in the train set: 106175, number of used features: 12\n",
      "[LightGBM] [Info] [binary:BoostFromScore]: pavg=0.202562 -> initscore=-1.370359\n",
      "[LightGBM] [Info] Start training from score -1.370359\n",
      "              precision    recall  f1-score   support\n",
      "\n",
      "           0       0.96      0.79      0.87     42335\n",
      "           1       0.06      0.31      0.10      1792\n",
      "\n",
      "    accuracy                           0.78     44127\n",
      "   macro avg       0.51      0.55      0.49     44127\n",
      "weighted avg       0.93      0.78      0.84     44127\n",
      "\n"
     ]
    }
   ],
   "source": [
    "from sklearn.ensemble import VotingClassifier\n",
    "# Najlepszy model XGBoost\n",
    "xgb_model = XGBClassifier(\n",
    "    n_estimators=300, max_depth=6, learning_rate=0.01, subsample=0.6, \n",
    "    scale_pos_weight=5, gamma=0.1, colsample_bytree=1.0, random_state=42\n",
    ")\n",
    "\n",
    "# Najlepszy model LightGBM\n",
    "lgbm_model = LGBMClassifier(\n",
    "    n_estimators=100, max_depth=8, learning_rate=0.1, subsample=0.9, \n",
    "    scale_pos_weight=5, random_state=42\n",
    ")\n",
    "\n",
    "# Najlepszy model Random Forest\n",
    "rf_model = RandomForestClassifier(\n",
    "    n_estimators=300, max_depth=6, random_state=42\n",
    ")\n",
    "\n",
    "ensemble_model = VotingClassifier(\n",
    "    estimators=[('xgb', xgb_model), ('lgbm', lgbm_model), ('rf', rf_model)],\n",
    "    voting='soft'\n",
    ")\n",
    "\n",
    "ensemble_model.fit(X_resampled, y_resampled)\n",
    "\n",
    "y_pred = ensemble_model.predict(X_test)\n",
    "\n",
    "print(classification_report(y_test, y_pred))"
   ]
  },
  {
   "cell_type": "code",
   "execution_count": 40,
   "id": "120b3c26-d513-4cac-8522-1664a073c6cc",
   "metadata": {},
   "outputs": [
    {
     "name": "stdout",
     "output_type": "stream",
     "text": [
      "[[33651  8684]\n",
      " [ 1238   554]]\n",
      "ROC AUC: 0.6189\n"
     ]
    }
   ],
   "source": [
    "print(confusion_matrix(y_test, y_pred))\n",
    "roc_auc = roc_auc_score(y_test, y_proba)\n",
    "print(f\"ROC AUC: {roc_auc:.4f}\")"
   ]
  },
  {
   "cell_type": "code",
   "execution_count": null,
   "id": "ef5a82bb-8750-422b-ba84-13de9ebca157",
   "metadata": {},
   "outputs": [],
   "source": [
    "# knn neighbors"
   ]
  },
  {
   "cell_type": "code",
   "execution_count": null,
   "id": "1aeb824f-567b-494d-ab46-d7e963addd02",
   "metadata": {},
   "outputs": [],
   "source": [
    "#Zastosowano metodę Tomek Links do under-samplingu zbioru treningowego.\n",
    "#Tomek Links usuwa próbki klasy większościowej\n",
    "#które są najbliżej klasy mniejszościowej\n",
    "#dzięki temu czyści granicę klas i zmniejsza nakładanie się danych."
   ]
  },
  {
   "cell_type": "code",
   "execution_count": 41,
   "id": "38fa6cd4-9272-4f51-aff1-97dd7fc3863b",
   "metadata": {},
   "outputs": [
    {
     "name": "stdout",
     "output_type": "stream",
     "text": [
      "Rozkład przed Tomek Links: Counter({0: 169336, 1: 7169})\n",
      "Rozkład po Tomek Links: Counter({0: 165363, 1: 7169})\n"
     ]
    }
   ],
   "source": [
    "from imblearn.under_sampling import TomekLinks\n",
    "\n",
    "tomek_links = TomekLinks()\n",
    "\n",
    "X_train_tl, y_train_tl = tomek_links.fit_resample(X_train, y_train)\n",
    "\n",
    "from collections import Counter\n",
    "print('Rozkład przed Tomek Links:', Counter(y_train))\n",
    "print('Rozkład po Tomek Links:', Counter(y_train_tl))"
   ]
  },
  {
   "cell_type": "code",
   "execution_count": null,
   "id": "0774a1f8-fe96-49c0-a1b6-a95c26ccb1e7",
   "metadata": {},
   "outputs": [],
   "source": [
    "#Użyto metody NearMiss do under-samplingu danych po oczyszczeniu Tomek Links.\n",
    "#NearMiss wybiera próbki klasy większościowej, które są najbliżej próbek klasy mniejszościowej \n",
    "#żeby utrzymać trudniejsze przypadki do rozróżnienia.\n",
    "#Dzięki temu zbiór danych jest bardziej zrównoważony i skupiony na trudnych przykładach"
   ]
  },
  {
   "cell_type": "code",
   "execution_count": 42,
   "id": "743fe71d-0dcc-4590-94cd-d95ebfeacc48",
   "metadata": {},
   "outputs": [
    {
     "name": "stdout",
     "output_type": "stream",
     "text": [
      "Rozkład przed NearMiss: Counter({0: 165363, 1: 7169})\n",
      "Rozkład po NearMiss: Counter({0: 7169, 1: 7169})\n"
     ]
    }
   ],
   "source": [
    "from imblearn.under_sampling import NearMiss\n",
    "\n",
    "near_miss = NearMiss(version=1)\n",
    "\n",
    "X_train_nm, y_train_nm = near_miss.fit_resample(X_train_tl, y_train_tl)\n",
    "\n",
    "print('Rozkład przed NearMiss:', Counter(y_train_tl))\n",
    "print('Rozkład po NearMiss:', Counter(y_train_nm))"
   ]
  },
  {
   "cell_type": "code",
   "execution_count": null,
   "id": "a7ebadee-54e6-4e54-ab4c-c6fee8064ed7",
   "metadata": {},
   "outputs": [],
   "source": [
    "#Wytrenowano klasyfikator K-Nearest Neighbors z 100 najbliższymi sąsiadami\n",
    "#na danych przetworzonych metodami Tomek Links i NearMiss\n",
    "\n",
    "#Model osiąga średnią dokładność (63%) i dobry recall między klasami (63,5%), ale precision jest niższe (52%).\n",
    "#F1-score jest umiarkowany, co pokazuje, że równowaga między precyzją a recall jest przeciętna"
   ]
  },
  {
   "cell_type": "code",
   "execution_count": 43,
   "id": "a1caefbe-d782-40dd-8396-9349b0e96dc7",
   "metadata": {},
   "outputs": [
    {
     "name": "stdout",
     "output_type": "stream",
     "text": [
      "Accuracy: 0.6326285494141909\n",
      "Precision (macro): 0.5222913310066715\n",
      "Recall (macro): 0.6345870825705681\n",
      "F1-score (macro): 0.44550945974843886\n"
     ]
    }
   ],
   "source": [
    "from sklearn.neighbors import KNeighborsClassifier\n",
    "from sklearn.metrics import accuracy_score, precision_score, recall_score, f1_score\n",
    "\n",
    "knn_model = KNeighborsClassifier(n_neighbors=100, weights='uniform', algorithm='auto')\n",
    "\n",
    "knn_model.fit(X_train_nm, y_train_nm)\n",
    "\n",
    "y_pred = knn_model.predict(X_test)\n",
    "\n",
    "print(\"Accuracy:\", accuracy_score(y_test, y_pred))\n",
    "print(\"Precision (macro):\", precision_score(y_test, y_pred, average='macro'))\n",
    "print(\"Recall (macro):\", recall_score(y_test, y_pred, average='macro'))\n",
    "print(\"F1-score (macro):\", f1_score(y_test, y_pred, average='macro'))"
   ]
  },
  {
   "cell_type": "code",
   "execution_count": 44,
   "id": "08e55dda-f837-4214-84cf-45be266cdb79",
   "metadata": {},
   "outputs": [
    {
     "name": "stdout",
     "output_type": "stream",
     "text": [
      "Fitting 3 folds for each of 8 candidates, totalling 24 fits\n",
      "Best Score (F1-macro): 0.8497\n",
      "Best Params: {'algorithm': 'auto', 'n_neighbors': 7, 'weights': 'uniform'}\n",
      "\n",
      "Final evaluation on TEST set:\n",
      "Accuracy: 0.4822897545720307\n",
      "Precision (macro): 0.518286788239728\n",
      "Recall (macro): 0.6166246860184076\n",
      "F1-score (macro): 0.3711925760300885\n"
     ]
    }
   ],
   "source": [
    "from sklearn.model_selection import GridSearchCV\n",
    "from sklearn.neighbors import KNeighborsClassifier\n",
    "from sklearn.metrics import accuracy_score, precision_score, recall_score, f1_score\n",
    "\n",
    "\n",
    "knn_model = KNeighborsClassifier()\n",
    "\n",
    "param_grid = {\n",
    "    'n_neighbors': [7, 25, 50, 100],\n",
    "    'weights': ['uniform', 'distance'],\n",
    "    'algorithm': ['auto']  \n",
    "}\n",
    "\n",
    "grid = GridSearchCV(\n",
    "    estimator=knn_model,\n",
    "    param_grid=param_grid,\n",
    "    scoring='f1_macro',     \n",
    "    cv=3,                   \n",
    "    n_jobs=-1,              \n",
    "    verbose=2               \n",
    ")\n",
    "\n",
    "grid_result = grid.fit(X_train_nm, y_train_nm)\n",
    "\n",
    "print(\"Best Score (F1-macro): {:.4f}\".format(grid_result.best_score_))\n",
    "print(\"Best Params:\", grid_result.best_params_)\n",
    "\n",
    "best_model = grid_result.best_estimator_\n",
    "y_pred = best_model.predict(X_test)\n",
    "\n",
    "print(\"\\nFinal evaluation on TEST set:\")\n",
    "print(\"Accuracy:\", accuracy_score(y_test, y_pred))\n",
    "print(\"Precision (macro):\", precision_score(y_test, y_pred, average='macro'))\n",
    "print(\"Recall (macro):\", recall_score(y_test, y_pred, average='macro'))\n",
    "print(\"F1-score (macro):\", f1_score(y_test, y_pred, average='macro'))"
   ]
  },
  {
   "cell_type": "code",
   "execution_count": 45,
   "id": "d5907c86-325c-476f-9d60-75c9c8db91d6",
   "metadata": {},
   "outputs": [
    {
     "name": "stdout",
     "output_type": "stream",
     "text": [
      "Accuracy: 0.4822897545720307\n",
      "Precision (macro): 0.518286788239728\n",
      "Recall (macro): 0.6166246860184076\n",
      "F1-score (macro): 0.3711925760300885\n"
     ]
    }
   ],
   "source": [
    "from sklearn.neighbors import KNeighborsClassifier\n",
    "from sklearn.metrics import accuracy_score, precision_score, recall_score, f1_score\n",
    "\n",
    "knn_model = KNeighborsClassifier(n_neighbors=7, weights='uniform', algorithm='auto')\n",
    "\n",
    "knn_model.fit(X_train_nm, y_train_nm)\n",
    "\n",
    "y_pred = knn_model.predict(X_test)\n",
    "\n",
    "# Ocena\n",
    "print(\"Accuracy:\", accuracy_score(y_test, y_pred))\n",
    "print(\"Precision (macro):\", precision_score(y_test, y_pred, average='macro'))\n",
    "print(\"Recall (macro):\", recall_score(y_test, y_pred, average='macro'))\n",
    "print(\"F1-score (macro):\", f1_score(y_test, y_pred, average='macro'))"
   ]
  },
  {
   "cell_type": "code",
   "execution_count": null,
   "id": "5e8e8bd1-6617-4ebe-ae7c-81e0aadaef78",
   "metadata": {},
   "outputs": [],
   "source": [
    "#Model KNN (n_neighbors=7) osiąga bardzo wysoki i stabilny wynik F1-macro na danych treningowych (po NearMiss),\n",
    "#Bardzo małe odchylenie standardowe oznacza, że model działa stabilnie w różnych podziałach danych."
   ]
  },
  {
   "cell_type": "code",
   "execution_count": 46,
   "id": "63a09a8f-8f15-411e-af17-a40207bf71a0",
   "metadata": {},
   "outputs": [
    {
     "name": "stdout",
     "output_type": "stream",
     "text": [
      "Cross-validation F1 macro scores: [0.85719191 0.85366767 0.85695598 0.85868772 0.84875406]\n",
      "Średni wynik F1 macro: 0.85505146912284\n",
      "Odchylenie standardowe F1 macro: 0.0035497382220818843\n"
     ]
    }
   ],
   "source": [
    "from sklearn.model_selection import cross_val_score\n",
    "from sklearn.neighbors import KNeighborsClassifier\n",
    "\n",
    "best_knn_model = KNeighborsClassifier(\n",
    "    n_neighbors=7,       \n",
    "    weights='uniform',    \n",
    "    algorithm='auto'      \n",
    ")\n",
    "\n",
    "scores = cross_val_score(\n",
    "    best_knn_model,\n",
    "    X_train_nm,\n",
    "    y_train_nm,\n",
    "    cv=5,                   \n",
    "    scoring='f1_macro'\n",
    ")\n",
    "\n",
    "print(\"Cross-validation F1 macro scores:\", scores)\n",
    "print(\"Średni wynik F1 macro:\", scores.mean())\n",
    "print(\"Odchylenie standardowe F1 macro:\", scores.std())"
   ]
  },
  {
   "cell_type": "code",
   "execution_count": 47,
   "id": "ef30e093-8f56-4724-bf71-b554e85c839b",
   "metadata": {},
   "outputs": [
    {
     "name": "stdout",
     "output_type": "stream",
     "text": [
      "Accuracy: 0.4822897545720307\n",
      "Precision: 0.057468365073359395\n",
      "Recall: 0.7628348214285714\n",
      "F1-score: 0.10688455373548614\n",
      "ROC AUC Score: 0.6436861821209232\n",
      "\n",
      "Classification Report:\n",
      "               precision    recall  f1-score   support\n",
      "\n",
      "   Brak raka       0.98      0.47      0.64     42335\n",
      "         Rak       0.06      0.76      0.11      1792\n",
      "\n",
      "    accuracy                           0.48     44127\n",
      "   macro avg       0.52      0.62      0.37     44127\n",
      "weighted avg       0.94      0.48      0.61     44127\n",
      "\n",
      "\n",
      "Confusion Matrix:\n",
      " [[19915 22420]\n",
      " [  425  1367]]\n"
     ]
    }
   ],
   "source": [
    "from sklearn.metrics import accuracy_score, precision_score, recall_score, f1_score, roc_auc_score, confusion_matrix, classification_report\n",
    "\n",
    "y_pred = best_model.predict(X_test)\n",
    "y_pred_proba = best_model.predict_proba(X_test)[:, 1] \n",
    "\n",
    "print(\"Accuracy:\", accuracy_score(y_test, y_pred))\n",
    "print(\"Precision:\", precision_score(y_test, y_pred, pos_label=1))\n",
    "print(\"Recall:\", recall_score(y_test, y_pred, pos_label=1))\n",
    "print(\"F1-score:\", f1_score(y_test, y_pred, pos_label=1))\n",
    "print(\"ROC AUC Score:\", roc_auc_score(y_test, y_pred_proba))\n",
    "\n",
    "print(\"\\nClassification Report:\\n\", classification_report(y_test, y_pred, target_names=[\"Brak raka\", \"Rak\"]))\n",
    "\n",
    "print(\"\\nConfusion Matrix:\\n\", confusion_matrix(y_test, y_pred))"
   ]
  },
  {
   "cell_type": "code",
   "execution_count": null,
   "id": "894459e6-989b-4f1d-841a-df3de92805a7",
   "metadata": {},
   "outputs": [],
   "source": [
    "#widzimy że model bardzo dobrze wykrywa raka (76% recall), ale ogromnym kosztem błędnych alarmów (tylko 5,7% precision) i spadku ogólnej dokładności"
   ]
  },
  {
   "cell_type": "code",
   "execution_count": 51,
   "id": "dea62b1f-a562-42c6-bd31-e9b87faad07a",
   "metadata": {},
   "outputs": [
    {
     "name": "stdout",
     "output_type": "stream",
     "text": [
      "\n",
      "=== Wyniki CROSS-VALIDATION (5-fold) ===\n",
      "KNN: F1_macro = 0.8551 +/- 0.0035\n",
      "LightGBM: F1_macro = 0.8740 +/- 0.0112\n",
      "XGBoost: F1_macro = 0.8671 +/- 0.0125\n",
      "\n",
      "=== Wyniki na TEST SEKCIE ===\n",
      "\n",
      "KNN - Test Set Metrics:\n",
      "              precision    recall  f1-score   support\n",
      "\n",
      "           0     0.9791    0.4704    0.6355     42335\n",
      "           1     0.0575    0.7628    0.1069      1792\n",
      "\n",
      "    accuracy                         0.4823     44127\n",
      "   macro avg     0.5183    0.6166    0.3712     44127\n",
      "weighted avg     0.9417    0.4823    0.6140     44127\n",
      "\n",
      "[LightGBM] [Info] Number of positive: 7169, number of negative: 7169\n",
      "[LightGBM] [Info] Auto-choosing row-wise multi-threading, the overhead of testing was 0.004516 seconds.\n",
      "You can set `force_row_wise=true` to remove the overhead.\n",
      "And if memory is not enough, you can set `force_col_wise=true`.\n",
      "[LightGBM] [Info] Total Bins 794\n",
      "[LightGBM] [Info] Number of data points in the train set: 14338, number of used features: 12\n",
      "[LightGBM] [Info] [binary:BoostFromScore]: pavg=0.500000 -> initscore=0.000000\n",
      "\n",
      "LightGBM - Test Set Metrics:\n",
      "              precision    recall  f1-score   support\n",
      "\n",
      "           0     0.9781    0.3833    0.5508     42335\n",
      "           1     0.0519    0.7969    0.0974      1792\n",
      "\n",
      "    accuracy                         0.4001     44127\n",
      "   macro avg     0.5150    0.5901    0.3241     44127\n",
      "weighted avg     0.9404    0.4001    0.5324     44127\n",
      "\n",
      "\n",
      "XGBoost - Test Set Metrics:\n",
      "              precision    recall  f1-score   support\n",
      "\n",
      "           0     0.9780    0.3636    0.5301     42335\n",
      "           1     0.0509    0.8064    0.0958      1792\n",
      "\n",
      "    accuracy                         0.3816     44127\n",
      "   macro avg     0.5144    0.5850    0.3129     44127\n",
      "weighted avg     0.9403    0.3816    0.5125     44127\n",
      "\n"
     ]
    }
   ],
   "source": [
    "from sklearn.model_selection import cross_val_score\n",
    "from sklearn.metrics import classification_report\n",
    "from sklearn.neighbors import KNeighborsClassifier\n",
    "from lightgbm import LGBMClassifier\n",
    "from xgboost import XGBClassifier\n",
    "import numpy as np\n",
    "\n",
    "models = {\n",
    "    \"KNN\": KNeighborsClassifier(n_neighbors=7, weights='uniform', algorithm='auto'),\n",
    "    \"LightGBM\": LGBMClassifier(random_state=42),\n",
    "    \"XGBoost\": XGBClassifier(use_label_encoder=False, eval_metric='logloss', random_state=42)\n",
    "}\n",
    "\n",
    "print(\"\\n=== Wyniki CROSS-VALIDATION (5-fold) ===\")\n",
    "for name, model in models.items():\n",
    "    scores = cross_val_score(model, X_train_nm, y_train_nm, cv=5, scoring='f1_macro', n_jobs=-1)\n",
    "    print(f\"{name}: F1_macro = {scores.mean():.4f} +/- {scores.std():.4f}\")\n",
    "\n",
    "print(\"\\n=== Wyniki na TEST SEKCIE ===\")\n",
    "for name, model in models.items():\n",
    "    model.fit(X_train_nm, y_train_nm)\n",
    "    y_pred_test = model.predict(X_test)\n",
    "    print(f\"\\n{name} - Test Set Metrics:\")\n",
    "    print(classification_report(y_test, y_pred_test, digits=4))"
   ]
  },
  {
   "cell_type": "code",
   "execution_count": null,
   "id": "9e1560b7-258f-4f74-847d-840f9d680540",
   "metadata": {},
   "outputs": [],
   "source": [
    "#Wszystkie modele skutecznie wykrywają większość przypadków raka (wysoki recall), \n",
    "#ale kosztem niskiej precyzji i spadku ogólnej dokładności. KNN najlepiej balansuje wyniki na zbiorze testowym"
   ]
  },
  {
   "cell_type": "code",
   "execution_count": 52,
   "id": "8e0881d5-a522-40fc-9ff5-0347771ffdcf",
   "metadata": {},
   "outputs": [
    {
     "data": {
      "image/png": "[encoded data removed]",
      "text/plain": [
       "<Figure size 1200x600 with 1 Axes>"
      ]
     },
     "metadata": {},
     "output_type": "display_data"
    },
    {
     "name": "stdout",
     "output_type": "stream",
     "text": [
      "Najlepszy threshold (dla maksymalnego F1): 0.49\n",
      "Precision przy tym threshold: 0.0610\n",
      "Recall przy tym threshold: 0.5781\n",
      "F1 przy tym threshold: 0.1103\n"
     ]
    }
   ],
   "source": [
    "import numpy as np\n",
    "import matplotlib.pyplot as plt\n",
    "from sklearn.metrics import precision_score, recall_score, f1_score\n",
    "\n",
    "y_proba = best_model.predict_proba(X_test)[:,1]\n",
    "\n",
    "# rozne thresholdy\n",
    "thresholds = np.arange(0.0, 1.0, 0.01)\n",
    "precisions = []\n",
    "recalls = []\n",
    "f1s = []\n",
    "\n",
    "for threshold in thresholds:\n",
    "    y_pred = (y_proba >= threshold).astype(int)\n",
    "    precisions.append(precision_score(y_test, y_pred, zero_division=0))\n",
    "    recalls.append(recall_score(y_test, y_pred, zero_division=0))\n",
    "    f1s.append(f1_score(y_test, y_pred, zero_division=0))\n",
    "\n",
    "plt.figure(figsize=(12, 6))\n",
    "plt.plot(thresholds, precisions, label=\"Precision\", color='blue')\n",
    "plt.plot(thresholds, recalls, label=\"Recall\", color='green')\n",
    "plt.plot(thresholds, f1s, label=\"F1 Score\", color='red')\n",
    "plt.xlabel(\"Threshold\")\n",
    "plt.ylabel(\"Score\")\n",
    "plt.title(\"Precision, Recall, F1 vs Threshold\")\n",
    "plt.legend()\n",
    "plt.grid(True)\n",
    "plt.show()\n",
    "\n",
    "best_threshold = thresholds[np.argmax(f1s)]\n",
    "print(f\"Najlepszy threshold (dla maksymalnego F1): {best_threshold:.2f}\")\n",
    "print(f\"Precision przy tym threshold: {precisions[np.argmax(f1s)]:.4f}\")\n",
    "print(f\"Recall przy tym threshold: {recalls[np.argmax(f1s)]:.4f}\")\n",
    "print(f\"F1 przy tym threshold: {max(f1s):.4f}\")"
   ]
  },
  {
   "cell_type": "markdown",
   "id": "ee286ed0-84f6-4390-a569-17363f568079",
   "metadata": {},
   "source": [
    "#Wniosek\n",
    "#W projekcie przeprowadzono kompleksową analizę różnych modeli klasyfikacyjnych, \n",
    "#których zadaniem było wykrywanie rzadkiej klasy pozytywnej (rak płuc) w bardzo niezbalansowanych danych.\n",
    "#W celu poprawy wyników stosowano techniki balansowania danych: SMOTE, Tomek Links, NearMiss, \n",
    "#oraz strojenie hiperparametrów za pomocą GridSearchCV i RandomizedSearchCV\n",
    "\n",
    "#Testowane modele: K-Nearest Neighbors, Random Forest, XGBoost, LightGBM, Voting Ensemble (XGBoost + LightGBM + Random Forest), LogisticRegression\n",
    "\n",
    "#KNN po balansowaniu danymi (Tomek Links + NearMiss) okazał się najlepszym modelem w praktycznym rozpoznawaniu raka w testowym zbiorze danych.\n",
    "#Modele zespołowe (LightGBM, XGBoost, VotingClassifier) zrobiły nieco wyższy recall, ale jeszcze niższą precision i spadek accuracy.\n",
    "\n",
    "#Podsumowując, w przypadku tego problemu, gdzie nadrzędnym celem jest wykrycie jak największej liczby przypadków raka, \n",
    "#model KNN po NearMiss jest najbardziej efektywnym rozwiązaniem"
   ]
  }
 ],
 "metadata": {
  "kernelspec": {
   "display_name": "Python 3 (ipykernel)",
   "language": "python",
   "name": "python3"
  },
  "language_info": {
   "codemirror_mode": {
    "name": "ipython",
    "version": 3
   },
   "file_extension": ".py",
   "mimetype": "text/x-python",
   "name": "python",
   "nbconvert_exporter": "python",
   "pygments_lexer": "ipython3",
   "version": "3.10.11"
  }
 },
 "nbformat": 4,
 "nbformat_minor": 5
}
